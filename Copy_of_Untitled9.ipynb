{
  "nbformat": 4,
  "nbformat_minor": 0,
  "metadata": {
    "colab": {
      "name": "Copy of Untitled9.ipynb",
      "provenance": [],
      "include_colab_link": true
    },
    "kernelspec": {
      "name": "python3",
      "display_name": "Python 3"
    },
    "language_info": {
      "name": "python"
    }
  },
  "cells": [
    {
      "cell_type": "markdown",
      "metadata": {
        "id": "view-in-github",
        "colab_type": "text"
      },
      "source": [
        "<a href=\"https://colab.research.google.com/github/Nikku555/Nikhitha-Karnati/blob/main/Copy_of_Untitled9.ipynb\" target=\"_parent\"><img src=\"https://colab.research.google.com/assets/colab-badge.svg\" alt=\"Open In Colab\"/></a>"
      ]
    },
    {
      "cell_type": "code",
      "metadata": {
        "id": "wxNLELmiJozM",
        "colab": {
          "base_uri": "https://localhost:8080/"
        },
        "outputId": "dc8c1826-3803-4c7c-e2bb-b75d8bf5c47f"
      },
      "source": [
        "import pandas as pd\n",
        "\n",
        "from lxml import html\n",
        "from lxml import etree\n",
        "#import requests\n",
        "#from bs4 import BeautifulSoup\n",
        "import lxml.etree\n",
        "from lxml.etree import tostring\n",
        "from itertools import chain\n",
        "\n",
        "import urllib3\n",
        "\n",
        "imdburl = \"https://www.imdb.com/title/tt1074638/\"\n",
        "http = urllib3.PoolManager()\n",
        "resp = http.request('GET', imdburl)\n",
        "#print(resp.data)\n",
        "tagtree = html.fromstring(resp.data)\n",
        "title_text = '//div[@class=\"ipc-page-content-container ipc-page-content-container--center\"]/section[@class=\"ipc-page-background ipc-page-background--baseAlt Hero__StyledPageBackground-kvkd64-0 dxionP\"]/section[@class=\"ipc-page-section ipc-page-section--baseAlt ipc-page-section--tp-xs ipc-page-section--bp-xs Hero__HeroParent-kvkd64-1 fARFJI\"]/div[@class=\"TitleBlock__Container-sc-1nlhx7j-0 hglRHk\"]/div[@class=\"TitleBlock__TitleContainer-sc-1nlhx7j-1 jxsVNt\"]/h1/text()'\n",
        "print(tagtree.xpath(title_text))\n",
        "genre_text = '//div[@class=\"ipc-chip-list GenresAndPlot__GenresChipList-cum89p-4 gtBDBL\"]/a[@class=\"GenresAndPlot__GenreChip-cum89p-3 fzmeux ipc-chip ipc-chip--on-baseAlt\"]/span/text()'\n",
        "print(tagtree.xpath(genre_text))\n",
        "storyline_text = '//div[@class=\"Storyline__StorylineWrapper-sc-1b58ttw-0 iywpty\"]/div[@class=\"ipc-overflowText ipc-overflowText--pageSection ipc-overflowText--height-long ipc-overflowText--long ipc-overflowText--base\"]/div[@class=\"ipc-html-content ipc-html-content--base\"]/div/text()'\n",
        "print(tagtree.xpath((storyline_text)))\n",
        "rating_text = '//div[@class=\"ipc-button__text\"]/div[@class=\"RatingBarButtonBase__ButtonContentWrap-sc-15v8ssr-3 jodtvN\"]/div[@class=\"AggregateRatingButton__ContentWrap-sc-1ll29m0-0 hmJkIS\"]/div[@class=\"AggregateRatingButton__Rating-sc-1ll29m0-2 bmbYRW\"]/span/text()'\n",
        "imdb_rating = tagtree.xpath(rating_text)\n",
        "print(\"rating: \",imdb_rating[0])\n",
        "boxoffice_budget = '//section[@class=\"ipc-page-section ipc-page-section--base celwidget\"]/div[@class=\"styles__MetaDataContainer-sc-12uhu9s-0 cgqHBf\"]/ul[@class=\"ipc-metadata-list ipc-metadata-list--dividers-none ipc-metadata-list--compact BoxOffice__MetaDataListBoxOffice-sc-40s2pl-0 fxZYqi ipc-metadata-list--base\"]/li[@data-testid=\"title-boxoffice-budget\"]/div[@class=\"ipc-metadata-list-item__content-container\"]/ul[@class=\"ipc-inline-list ipc-inline-list--show-dividers ipc-inline-list--inline ipc-metadata-list-item__list-content base\"]/li[@class=\"ipc-inline-list__item\"]/span/text()'\n",
        "print(tagtree.xpath(boxoffice_budget))\n",
        "boxoffice_weekend = '//section[@class=\"ipc-page-section ipc-page-section--base celwidget\"]/div[@class=\"styles__MetaDataContainer-sc-12uhu9s-0 cgqHBf\"]/ul[@class=\"ipc-metadata-list ipc-metadata-list--dividers-none ipc-metadata-list--compact BoxOffice__MetaDataListBoxOffice-sc-40s2pl-0 fxZYqi ipc-metadata-list--base\"]/li[@data-testid=\"title-boxoffice-openingweekenddomestic\"]/div[@class=\"ipc-metadata-list-item__content-container\"]/ul[@class=\"ipc-inline-list ipc-inline-list--show-dividers ipc-inline-list--inline ipc-metadata-list-item__list-content base\"]/li[@class=\"ipc-inline-list__item\"]/span/text()'\n",
        "print(tagtree.xpath(boxoffice_weekend))\n",
        "boxoffice_gross = '//section[@class=\"ipc-page-section ipc-page-section--base celwidget\"]/div[@class=\"styles__MetaDataContainer-sc-12uhu9s-0 cgqHBf\"]/ul[@class=\"ipc-metadata-list ipc-metadata-list--dividers-none ipc-metadata-list--compact BoxOffice__MetaDataListBoxOffice-sc-40s2pl-0 fxZYqi ipc-metadata-list--base\"]/li[@data-testid=\"title-boxoffice-grossdomestic\"]/div[@class=\"ipc-metadata-list-item__content-container\"]/ul[@class=\"ipc-inline-list ipc-inline-list--show-dividers ipc-inline-list--inline ipc-metadata-list-item__list-content base\"]/li[@class=\"ipc-inline-list__item\"]/span/text()'\n",
        "print(tagtree.xpath(boxoffice_gross))\n",
        "boxoffice_totalgross = '//section[@class=\"ipc-page-section ipc-page-section--base celwidget\"]/div[@class=\"styles__MetaDataContainer-sc-12uhu9s-0 cgqHBf\"]/ul[@class=\"ipc-metadata-list ipc-metadata-list--dividers-none ipc-metadata-list--compact BoxOffice__MetaDataListBoxOffice-sc-40s2pl-0 fxZYqi ipc-metadata-list--base\"]/li[@data-testid=\"title-boxoffice-cumulativeworldwidegross\"]/div[@class=\"ipc-metadata-list-item__content-container\"]/ul[@class=\"ipc-inline-list ipc-inline-list--show-dividers ipc-inline-list--inline ipc-metadata-list-item__list-content base\"]/li[@class=\"ipc-inline-list__item\"]/span/text()'\n",
        "print(tagtree.xpath(boxoffice_totalgross))\n",
        "keywordurl = \"https://www.imdb.com/title/tt1074638/keywords?ref_=tt_stry_kw\"\n",
        "httpmng = urllib3.PoolManager()\n",
        "response = httpmng.request('GET', keywordurl)\n",
        "tagtree1 = html.fromstring(response.data)\n",
        "plotkeywords = '//div[@class=\"article listo\"]/div[@id=\"keywords_content\"]/div[@class=\"ipc-chip-list Keywords__PlotKeywords-ke3vmf-0 bHzejW\"]/table[@class=\"dataTable evenWidthTable2Col\"]/tbody/tr[@class=\"odd\"]/td/div/a/text()'\n",
        "print(tagtree1.xpath(plotkeywords))"
      ],
      "execution_count": null,
      "outputs": [
        {
          "output_type": "stream",
          "name": "stderr",
          "text": [
            "/usr/local/lib/python3.7/dist-packages/urllib3/connectionpool.py:847: InsecureRequestWarning: Unverified HTTPS request is being made. Adding certificate verification is strongly advised. See: https://urllib3.readthedocs.io/en/latest/advanced-usage.html#ssl-warnings\n",
            "  InsecureRequestWarning)\n"
          ]
        },
        {
          "output_type": "stream",
          "name": "stdout",
          "text": [
            "['Skyfall']\n",
            "['Action', 'Adventure', 'Thriller']\n",
            "[\"When James Bond's (Daniel Craig's) latest assignment goes gravely wrong and Agents around the world are exposed, MI6 is attacked, forcing (M Dame Judi Dench) to relocate the agency. These events cause her authority and position to be challenged by Gareth Mallory (Ralph Fiennes), the new Chairman of the Intelligence and Security Committee. With MI6 now compromised from both inside and out, M is left with one ally she can trust: Bond. 007 takes to the shadows, aided only by field agent, Miss Eve Moneypenny (Naomie Harris), following a trail to the mysterious Tiago Rodriguez, a.k.a. Raoul Silva (Javier Bardem), whose lethal and hidden motives have yet to reveal themselves.\"]\n",
            "rating:  7.8\n",
            "['$200,000,000 (estimated)']\n",
            "['$88,364,714', 'Nov 11, 2012']\n",
            "['$304,360,277']\n",
            "['$1,108,569,499']\n"
          ]
        },
        {
          "output_type": "stream",
          "name": "stderr",
          "text": [
            "/usr/local/lib/python3.7/dist-packages/urllib3/connectionpool.py:847: InsecureRequestWarning: Unverified HTTPS request is being made. Adding certificate verification is strongly advised. See: https://urllib3.readthedocs.io/en/latest/advanced-usage.html#ssl-warnings\n",
            "  InsecureRequestWarning)\n"
          ]
        },
        {
          "output_type": "stream",
          "name": "stdout",
          "text": [
            "[]\n"
          ]
        }
      ]
    }
  ]
}